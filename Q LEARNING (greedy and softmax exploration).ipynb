{
 "cells": [
  {
   "cell_type": "code",
   "execution_count": 20,
   "metadata": {},
   "outputs": [],
   "source": [
    "from __future__ import print_function, division\n",
    "from builtins import range\n",
    "import numpy as np\n",
    "import random\n",
    "import matplotlib.pyplot as plt\n",
    "from collections import Counter"
   ]
  },
  {
   "cell_type": "code",
   "execution_count": 19,
   "metadata": {},
   "outputs": [],
   "source": [
    "def print_values(V,g):\n",
    "    for i in range(g.width):\n",
    "        print('------------------------------------------------------------')\n",
    "        for j in range(g.height):\n",
    "            v=V.get((i,j),0)\n",
    "            if v>=0:\n",
    "                print(\" %.2f|\" % v, end=\"\")\n",
    "            else:\n",
    "                print(\"%.2f|\" % v, end=\"\")\n",
    "        print('')\n",
    "\n",
    "def print_policy(P,g):\n",
    "    for i in range(g.width):\n",
    "        print('-------------------------------------------------------------')\n",
    "        for j in range(g.height):\n",
    "            a=P.get((i,j),' ')\n",
    "            print(\"  %s  |\" % a, end=\"\")\n",
    "        print('')\n",
    "        \n",
    "def max_dict(d):\n",
    "    max_key=None\n",
    "    max_val=float('-inf')\n",
    "    for k,v in d.itmes():\n",
    "        if v>max_val:\n",
    "            max_val=v\n",
    "            max_key=k\n",
    "    return max_key, max_val"
   ]
  },
  {
   "cell_type": "code",
   "execution_count": 2,
   "metadata": {},
   "outputs": [],
   "source": [
    "class Grid: # Environment\n",
    "  def __init__(self, width, height, start):\n",
    "    # i is vertical axis, j is horizontal\n",
    "    self.width = width\n",
    "    self.height = height\n",
    "    self.i = start[0]\n",
    "    self.j = start[1]\n",
    "    self.start=start\n",
    "\n",
    "  def set(self, rewards, actions, obey_prob):\n",
    "    # rewards should be a dict of: (i, j): r (row, col): reward\n",
    "    # actions should be a dict of: (i, j): A (row, col): list of possible actions\n",
    "    self.rewards = rewards\n",
    "    self.actions = actions\n",
    "    self.obey_prob = obey_prob\n",
    "\n",
    "  def non_terminal_states(self):\n",
    "    return self.actions.keys()\n",
    "\n",
    "  def terminal_states(self):\n",
    "    return [x for x in self.rewards.keys() if x not in self.actions.keys()]\n",
    "\n",
    "  def set_state(self, s):\n",
    "    self.i = s[0]\n",
    "    self.j = s[1]\n",
    "\n",
    "  def current_state(self):\n",
    "    return (self.i, self.j)\n",
    "\n",
    "  def is_terminal(self, s):\n",
    "    return s not in self.actions\n",
    "\n",
    "  def stochastic_move(self, action):\n",
    "    p = np.random.random()\n",
    "    if p <= self.obey_prob:\n",
    "      return action\n",
    "    if action == 'U' or action == 'D':\n",
    "      return np.random.choice(['L', 'R'])\n",
    "    elif action == 'L' or action == 'R':\n",
    "      return np.random.choice(['U', 'D'])\n",
    "\n",
    "  def move(self, action):\n",
    "    actual_action = self.stochastic_move(action)\n",
    "    if actual_action in self.actions[(self.i, self.j)]:\n",
    "      if actual_action == 'U':\n",
    "        self.i -= 1\n",
    "      elif actual_action == 'D':\n",
    "        self.i += 1\n",
    "      elif actual_action == 'R':\n",
    "        self.j += 1\n",
    "      elif actual_action == 'L':\n",
    "        self.j -= 1\n",
    "    return self.rewards.get((self.i, self.j), 0)\n",
    "\n",
    "  def step(self,action):\n",
    "    actual_action=self.stochastic_move(action)\n",
    "    new_state=[self.i,self.j]\n",
    "    if actual_action in self.actions[(self.i, self.j)]:\n",
    "      if actual_action == 'U':\n",
    "        new_state[0] -= 1\n",
    "      elif actual_action == 'D':\n",
    "        new_state[0] += 1\n",
    "      elif actual_action == 'R':\n",
    "        new_state[1] += 1\n",
    "      elif actual_action == 'L':\n",
    "        new_state[1] -= 1\n",
    "    new_state=tuple(new_state)\n",
    "    reward=self.rewards[new_state]\n",
    "    done=self.is_terminal(new_state)\n",
    "    return new_state,reward,done\n",
    "            \n",
    "\n",
    "  def check_move(self, action):\n",
    "    i = self.i\n",
    "    j = self.j\n",
    "    # check if legal move first\n",
    "    if action in self.actions[(self.i, self.j)]:\n",
    "      if action == 'U':\n",
    "        i -= 1\n",
    "      elif action == 'D':\n",
    "        i += 1\n",
    "      elif action == 'R':\n",
    "        j += 1\n",
    "      elif action == 'L':\n",
    "        j -= 1\n",
    "    # return a reward (if any)\n",
    "    return (i,j)\n",
    "\n",
    "  def get_transition_probs(self, action):\n",
    "    # returns a list of (probability, reward, s') transition tuples\n",
    "    probs = []\n",
    "    state = self.check_move(action)\n",
    "    probs.append((self.obey_prob, state))\n",
    "    disobey_prob = 1 - self.obey_prob\n",
    "    if not (disobey_prob > 0.0):\n",
    "      return probs\n",
    "    if action == 'U' or action == 'D':\n",
    "      state = self.check_move('L')\n",
    "      probs.append((disobey_prob / 2, state))\n",
    "      state = self.check_move('R')\n",
    "      probs.append((disobey_prob / 2, state))\n",
    "    elif action == 'L' or action == 'R':\n",
    "      state = self.check_move('U')\n",
    "      probs.append((disobey_prob / 2, state))\n",
    "      state = self.check_move('D')\n",
    "      probs.append((disobey_prob / 2, state))\n",
    "    return probs\n",
    "\n",
    "  def game_over(self):\n",
    "    # returns true if game is over, else false\n",
    "    # true if we are in a state where no actions are possible\n",
    "    return (self.i, self.j) not in self.actions\n",
    "\n",
    "  def all_states(self):\n",
    "    # possibly buggy but simple way to get all states\n",
    "    # either a position that has possible next actions\n",
    "    # or a position that yields a reward\n",
    "    return set(self.actions.keys()) | set(self.rewards.keys())\n",
    "\n",
    "\n",
    "def standard_grid(obey_prob=1.0, step_cost=None):\n",
    "  # define a grid that describes the reward for arriving at each state\n",
    "  # and possible actions at each state\n",
    "  # the grid looks like this\n",
    "  # x means you can't go there\n",
    "  # s means start position\n",
    "  # number means reward at that state\n",
    "  # .  .  .  1\n",
    "  # .  x  . -1\n",
    "  # s  .  .  .\n",
    "  # obey_brob (float): the probability of obeying the command\n",
    "  # step_cost (float): a penalty applied each step to minimize the number of moves (-0.1)\n",
    "  g = Grid(3, 4, (2, 0))\n",
    "  rewards = {(0, 3): 1, (1, 3): -1}\n",
    "  actions = {\n",
    "    (0, 0): ('D', 'R'),\n",
    "    (0, 1): ('L', 'R'),\n",
    "    (0, 2): ('L', 'D', 'R'),\n",
    "    (1, 0): ('U', 'D'),\n",
    "    (1, 2): ('U', 'D', 'R'),\n",
    "    (2, 0): ('U', 'R'),\n",
    "    (2, 1): ('L', 'R'),\n",
    "    (2, 2): ('L', 'R', 'U'),\n",
    "    (2, 3): ('L', 'U'),\n",
    "  }\n",
    "  g.set(rewards, actions, obey_prob)\n",
    "  if step_cost is not None:\n",
    "    g.rewards.update({\n",
    "      (0, 0): step_cost,\n",
    "      (0, 1): step_cost,\n",
    "      (0, 2): step_cost,\n",
    "      (1, 0): step_cost,\n",
    "      (1, 2): step_cost,\n",
    "      (2, 0): step_cost,\n",
    "      (2, 1): step_cost,\n",
    "      (2, 2): step_cost,\n",
    "      (2, 3): step_cost,\n",
    "    })\n",
    "  return g"
   ]
  },
  {
   "cell_type": "code",
   "execution_count": 42,
   "metadata": {},
   "outputs": [],
   "source": [
    "num_episodes=10000\n",
    "max_steps_per_episode=1000\n",
    "\n",
    "learning_rate=0.1\n",
    "discount_rate=0.9\n",
    "\n",
    "exploration_rate=1\n",
    "max_exploration_rate=1\n",
    "min_exploration_rate=0.01\n",
    "exploration_decay_rate=0.001\n"
   ]
  },
  {
   "cell_type": "code",
   "execution_count": 43,
   "metadata": {},
   "outputs": [],
   "source": [
    "grid=standard_grid(obey_prob=0.8, step_cost=-0.1)\n",
    "q_table={}\n",
    "for i in grid.actions.keys():\n",
    "    q_table.update({\n",
    "            i:{}\n",
    "        })\n",
    "for i in grid.actions.keys():\n",
    "    for j in grid.actions[i]:\n",
    "        q_table[i].update({\n",
    "            j:0\n",
    "        })\n",
    "        \n",
    "rewards_all_episodes=[]\n",
    "Steps=[]\n",
    "for episode in range(num_episodes):\n",
    "    grid.set_state(grid.start)\n",
    "    state=(grid.i,grid.j)\n",
    "    done=False\n",
    "    rewards_current_episode=0\n",
    "    for step in range(max_steps_per_episode):\n",
    "        exploration_rate_shreshold=random.uniform(0,1)\n",
    "        if exploration_rate_shreshold>exploration_rate:\n",
    "            max_reward=float('-inf')\n",
    "            for i in q_table[state].keys():\n",
    "                if q_table[state][i]>max_reward:\n",
    "                    max_reward=q_table[state][i]\n",
    "                    action=i\n",
    "        else:\n",
    "            action=random.sample(grid.actions[state],1)[0]\n",
    "        \n",
    "        new_state,reward,done=grid.step(action)    \n",
    "        \n",
    "        if done==True:\n",
    "            q_table[state][action]=q_table[state][action]*(1-learning_rate)+\\\n",
    "               learning_rate*(reward)\n",
    "        \n",
    "        else:\n",
    "            q_table[state][action]=q_table[state][action]*(1-learning_rate)+\\\n",
    "               learning_rate*(reward+discount_rate*max(q_table[new_state].values()))\n",
    "\n",
    "        state=new_state\n",
    "        grid.set_state(state)\n",
    "        rewards_current_episode+=reward\n",
    "\n",
    "        if done ==True:\n",
    "            break\n",
    "    Steps.append(step)\n",
    "    exploration_rate=min_exploration_rate+(max_exploration_rate - min_exploration_rate) *\\\n",
    "                        np.exp(-exploration_decay_rate*episode)\n",
    "    rewards_all_episodes.append(rewards_current_episode)"
   ]
  },
  {
   "cell_type": "code",
   "execution_count": 50,
   "metadata": {},
   "outputs": [
    {
     "data": {
      "text/plain": [
       "5.381"
      ]
     },
     "execution_count": 50,
     "metadata": {},
     "output_type": "execute_result"
    }
   ],
   "source": [
    "sum(Steps[-1000:])/len(Steps[-1000:])"
   ]
  },
  {
   "cell_type": "code",
   "execution_count": 175,
   "metadata": {},
   "outputs": [
    {
     "name": "stdout",
     "output_type": "stream",
     "text": [
      "1000 :  -0.7982000000000002\n",
      "2000 :  0.11880000000000034\n",
      "3000 :  0.31079999999999935\n",
      "4000 :  0.38749999999999957\n",
      "5000 :  0.35689999999999933\n",
      "6000 :  0.41649999999999854\n",
      "7000 :  0.3960999999999988\n",
      "8000 :  0.3805999999999989\n",
      "9000 :  0.39569999999999866\n",
      "10000 :  0.39419999999999933\n"
     ]
    }
   ],
   "source": [
    "rewards_per_thousand_episodes=np.split(np.array(rewards_all_episodes),num_episodes/1000)\n",
    "count=1000\n",
    "rewards_thousand_episodes=[]\n",
    "for r in rewards_per_thousand_episodes:\n",
    "    rewards_thousand_episodes.append(sum(r/1000))\n",
    "    print(count,\": \",str(sum(r/1000)))\n",
    "    count+=1000"
   ]
  },
  {
   "cell_type": "code",
   "execution_count": 158,
   "metadata": {},
   "outputs": [],
   "source": [
    "policy={}\n",
    "for i in q_table.keys():\n",
    "    max_q=float('-inf')\n",
    "    for j in q_table[i].keys():\n",
    "        if q_table[i][j]>max_q:\n",
    "            max_q=q_table[i][j]\n",
    "            policy.update({\n",
    "                i:j\n",
    "            })"
   ]
  },
  {
   "cell_type": "code",
   "execution_count": 159,
   "metadata": {},
   "outputs": [
    {
     "name": "stdout",
     "output_type": "stream",
     "text": [
      "Policy (Q LEARNING Results):\n",
      "-------------------------------------------------------------\n",
      "  R  |  R  |  R  |     |\n",
      "-------------------------------------------------------------\n",
      "  U  |     |  U  |     |\n",
      "-------------------------------------------------------------\n",
      "  U  |  R  |  U  |  L  |\n"
     ]
    }
   ],
   "source": [
    "    print('Policy (Q LEARNING Results):')\n",
    "    print_policy(policy,grid)"
   ]
  },
  {
   "cell_type": "code",
   "execution_count": 9,
   "metadata": {},
   "outputs": [],
   "source": [
    "def huge_grid(obey_prob=1.0, step_cost=None):\n",
    "\n",
    "  g = Grid(10, 10, (9, 0))\n",
    "  rewards = {(1, 9): 1, (2, 9): -1,(4,2):-0.2, (5,5):0.2}\n",
    "  actions = {\n",
    "      (0,0): ('R','D'),\n",
    "      (0,9): ('L','D'),\n",
    "      (9,0): ('R','U'),\n",
    "      (9,9): ('L','U'),\n",
    "  }\n",
    "  for j in range(1,9):\n",
    "      actions[(0,j)]=('L','R','D')\n",
    "      actions[(9,j)]=('L','R','U')\n",
    "  for i in range(1,9):\n",
    "      actions[(i,0)]=('R','U','D')\n",
    "  for i in range(3,9):\n",
    "      actions[(i,9)]=('L','U','D')\n",
    "  for i in range(1,9):\n",
    "    for j in range(1,9):\n",
    "        actions[(i,j)]=('L','R','U','D')\n",
    "  actions.update({\n",
    "      (6,4): ('L','U','D'),\n",
    "      (5,5): ('L','R','U'),\n",
    "      (6,6): ('R','U','D'),\n",
    "      (7,5): ('L','R','D'),\n",
    "      (7,1): ('L','U','D'),\n",
    "      (6,2): ('L','R','U'),\n",
    "      (7,3): ('R','U','D'),\n",
    "      (8,2): (('L','R','D'))       \n",
    "  })\n",
    "  del actions[(6,5)]\n",
    "  del actions[(7,2)]\n",
    "  \n",
    "  g.set(rewards, actions, obey_prob)\n",
    "  if step_cost is not None:\n",
    "        for i in range(0,10):\n",
    "            for j in range(0,10):\n",
    "                if (i,j) not in g.rewards.keys():\n",
    "                    g.rewards.update({\n",
    "                        (i,j): step_cost\n",
    "                    })\n",
    "  return g"
   ]
  },
  {
   "cell_type": "code",
   "execution_count": 28,
   "metadata": {},
   "outputs": [],
   "source": [
    "grid=huge_grid(obey_prob=0.8, step_cost=-0.03)\n",
    "q_table={}\n",
    "for i in grid.actions.keys():\n",
    "    q_table.update({\n",
    "            i:{}\n",
    "        })\n",
    "for i in grid.actions.keys():\n",
    "    for j in grid.actions[i]:\n",
    "        q_table[i].update({\n",
    "            j:0\n",
    "        })\n",
    "        \n",
    "rewards_all_episodes=[]\n",
    "for episode in range(num_episodes):\n",
    "    grid.set_state(grid.start)\n",
    "    state=(grid.i,grid.j)\n",
    "    done=False\n",
    "    rewards_current_episode=0\n",
    "    for step in range(max_steps_per_episode):\n",
    "        exploration_rate_shreshold=random.uniform(0,1)\n",
    "        if exploration_rate_shreshold>exploration_rate:\n",
    "            max_reward=float('-inf')\n",
    "            for i in q_table[state].keys():\n",
    "                if q_table[state][i]>max_reward:\n",
    "                    max_reward=q_table[state][i]\n",
    "                    action=i\n",
    "        else:\n",
    "            action=random.sample(grid.actions[state],1)[0]\n",
    "        \n",
    "        new_state,reward,done=grid.step(action)    \n",
    "        \n",
    "        if done==True:\n",
    "            q_table[state][action]=q_table[state][action]*(1-learning_rate)+\\\n",
    "               learning_rate*(reward)\n",
    "        \n",
    "        else:\n",
    "            q_table[state][action]=q_table[state][action]*(1-learning_rate)+\\\n",
    "               learning_rate*(reward+discount_rate*max(q_table[new_state].values()))\n",
    "\n",
    "        state=new_state\n",
    "        grid.set_state(state)\n",
    "        rewards_current_episode+=reward\n",
    "\n",
    "        if done ==True:\n",
    "            break\n",
    "    \n",
    "    exploration_rate=min_exploration_rate+(max_exploration_rate - min_exploration_rate) *\\\n",
    "                        np.exp(-exploration_decay_rate*episode)\n",
    "    rewards_all_episodes.append(rewards_current_episode)"
   ]
  },
  {
   "cell_type": "code",
   "execution_count": 181,
   "metadata": {},
   "outputs": [
    {
     "name": "stdout",
     "output_type": "stream",
     "text": [
      "1000 :  -0.7532199999999982\n",
      "2000 :  17.800919999999923\n",
      "3000 :  38.299079999999876\n",
      "4000 :  46.256870000000006\n",
      "5000 :  50.11518\n",
      "6000 :  52.695600000000034\n",
      "7000 :  52.33926999999996\n",
      "8000 :  50.698279999999855\n",
      "9000 :  51.51677000000006\n",
      "10000 :  52.20724000000002\n"
     ]
    }
   ],
   "source": [
    "rewards_per_thousand_episodes=np.split(np.array(rewards_all_episodes),num_episodes/1000)\n",
    "count=1000\n",
    "rewards_thousand_episodes=[]\n",
    "for r in rewards_per_thousand_episodes:\n",
    "    rewards_thousand_episodes.append(sum(r/1000))\n",
    "    print(count,\": \",str(sum(r/1000)))\n",
    "    count+=1000"
   ]
  },
  {
   "cell_type": "code",
   "execution_count": 29,
   "metadata": {},
   "outputs": [],
   "source": [
    "policy={}\n",
    "for i in q_table.keys():\n",
    "    max_q=float('-inf')\n",
    "    for j in q_table[i].keys():\n",
    "        if q_table[i][j]>max_q:\n",
    "            max_q=q_table[i][j]\n",
    "            policy.update({\n",
    "                i:j\n",
    "            })"
   ]
  },
  {
   "cell_type": "code",
   "execution_count": 183,
   "metadata": {},
   "outputs": [
    {
     "name": "stdout",
     "output_type": "stream",
     "text": [
      "Policy (Q LEARNING Results):\n",
      "-------------------------------------------------------------\n",
      "  R  |  R  |  R  |  R  |  R  |  R  |  R  |  R  |  R  |  D  |\n",
      "-------------------------------------------------------------\n",
      "  D  |  D  |  R  |  R  |  R  |  R  |  R  |  R  |  R  |     |\n",
      "-------------------------------------------------------------\n",
      "  R  |  R  |  R  |  R  |  R  |  R  |  U  |  U  |  L  |     |\n",
      "-------------------------------------------------------------\n",
      "  R  |  D  |  R  |  R  |  D  |  D  |  D  |  U  |  U  |  L  |\n",
      "-------------------------------------------------------------\n",
      "  D  |  D  |  R  |  R  |  R  |  D  |  L  |  L  |  L  |  L  |\n",
      "-------------------------------------------------------------\n",
      "  R  |  R  |  R  |  R  |  R  |  L  |  L  |  L  |  L  |  L  |\n",
      "-------------------------------------------------------------\n",
      "  R  |  R  |  R  |  R  |  U  |     |  U  |  L  |  U  |  L  |\n",
      "-------------------------------------------------------------\n",
      "  U  |  U  |     |  U  |  U  |  L  |  U  |  L  |  U  |  L  |\n",
      "-------------------------------------------------------------\n",
      "  U  |  U  |  R  |  R  |  U  |  U  |  U  |  U  |  U  |  U  |\n",
      "-------------------------------------------------------------\n",
      "  U  |  R  |  R  |  R  |  U  |  U  |  U  |  U  |  U  |  U  |\n"
     ]
    }
   ],
   "source": [
    "    print('Policy (Q LEARNING Results):')\n",
    "    print_policy(policy,grid)"
   ]
  },
  {
   "cell_type": "code",
   "execution_count": 184,
   "metadata": {},
   "outputs": [],
   "source": [
    "episodes=[1,2,3,4,5,6,7,8,9,10]\n"
   ]
  },
  {
   "cell_type": "code",
   "execution_count": 185,
   "metadata": {},
   "outputs": [
    {
     "data": {
      "image/png": "[encoded data removed]",
      "text/plain": [
       "<Figure size 432x288 with 1 Axes>"
      ]
     },
     "metadata": {},
     "output_type": "display_data"
    }
   ],
   "source": [
    "plt.plot(episodes,rewards_thousand_episodes,'go')\n",
    "plt.ylabel('Average Rewards')\n",
    "plt.xlabel('Per 1k episodes')\n",
    "plt.title('Q Learning Large Grid')\n",
    "plt.savefig('E:/Machine Learning/HW4/QL_LG.png')"
   ]
  },
  {
   "cell_type": "code",
   "execution_count": 32,
   "metadata": {},
   "outputs": [],
   "source": [
    "num_episodes=100\n",
    "max_steps=1000\n",
    "rewards=[]\n",
    "final_states=[]\n",
    "for episode in range(num_episodes):\n",
    "    grid.set_state(grid.start)\n",
    "    state=(grid.i,grid.j)\n",
    "    done=False\n",
    "    rewards_current_episode=0\n",
    "    for step in range(max_steps):\n",
    "        action=policy[state]\n",
    "        new_state,reward,done=grid.step(action)    \n",
    "        state=new_state\n",
    "        grid.set_state(state)\n",
    "        rewards_current_episode+=reward\n",
    "        if done ==True:\n",
    "            break\n",
    "    rewards.append(rewards_current_episode)\n",
    "    final_states.append(state)"
   ]
  },
  {
   "cell_type": "code",
   "execution_count": 33,
   "metadata": {},
   "outputs": [
    {
     "data": {
      "text/plain": [
       "51.13199999999999"
      ]
     },
     "execution_count": 33,
     "metadata": {},
     "output_type": "execute_result"
    }
   ],
   "source": [
    "sum(rewards)/100"
   ]
  },
  {
   "cell_type": "code",
   "execution_count": 10,
   "metadata": {},
   "outputs": [],
   "source": [
    "grid=huge_grid(obey_prob=0.8, step_cost=-0.03)\n",
    "q_table={}\n",
    "Steps=[]\n",
    "for i in grid.actions.keys():\n",
    "    q_table.update({\n",
    "            i:{}\n",
    "        })\n",
    "for i in grid.actions.keys():\n",
    "    for j in grid.actions[i]:\n",
    "        q_table[i].update({\n",
    "            j:0\n",
    "        })\n",
    "        \n",
    "rewards_all_episodes=[]\n",
    "for episode in range(num_episodes):\n",
    "    grid.set_state(grid.start)\n",
    "    state=(grid.i,grid.j)\n",
    "    done=False\n",
    "    rewards_current_episode=0\n",
    "    for step in range(max_steps_per_episode):\n",
    "        possible_actions=grid.actions[state]\n",
    "        sum_exp=sum(np.exp(list(q_table[state].values())))\n",
    "        probability_action=[]\n",
    "        for a in possible_actions:\n",
    "            probability_action.append(np.exp(q_table[state][a])/sum_exp)\n",
    "        action=random.choices(possible_actions, probability_action)[0]  \n",
    "        new_state,reward,done=grid.step(action)    \n",
    "        \n",
    "        if done==True:\n",
    "            q_table[state][action]=q_table[state][action]*(1-learning_rate)+\\\n",
    "               learning_rate*(reward)\n",
    "        \n",
    "        else:\n",
    "            q_table[state][action]=q_table[state][action]*(1-learning_rate)+\\\n",
    "               learning_rate*(reward+discount_rate*max(q_table[new_state].values()))\n",
    "\n",
    "        state=new_state\n",
    "        grid.set_state(state)\n",
    "        rewards_current_episode+=reward\n",
    "\n",
    "        if done ==True:\n",
    "            Steps.append(step)\n",
    "            break\n",
    "        \n",
    "    rewards_all_episodes.append(rewards_current_episode)"
   ]
  },
  {
   "cell_type": "code",
   "execution_count": 11,
   "metadata": {},
   "outputs": [
    {
     "name": "stdout",
     "output_type": "stream",
     "text": [
      "1000 :  -8.54607999999999\n",
      "2000 :  -8.521959999999998\n",
      "3000 :  -8.955809999999994\n",
      "4000 :  -9.397570000000009\n",
      "5000 :  -8.670419999999996\n",
      "6000 :  -8.752449999999998\n",
      "7000 :  -8.80036999999999\n",
      "8000 :  -9.15067000000001\n",
      "9000 :  -8.620729999999996\n",
      "10000 :  -9.116660000000001\n"
     ]
    }
   ],
   "source": [
    "rewards_per_thousand_episodes=np.split(np.array(rewards_all_episodes),num_episodes/1000)\n",
    "count=1000\n",
    "rewards_thousand_episodes=[]\n",
    "for r in rewards_per_thousand_episodes:\n",
    "    rewards_thousand_episodes.append(sum(r/1000))\n",
    "    print(count,\": \",str(sum(r/1000)))\n",
    "    count+=1000"
   ]
  },
  {
   "cell_type": "code",
   "execution_count": 12,
   "metadata": {},
   "outputs": [],
   "source": [
    "policy={}\n",
    "for i in q_table.keys():\n",
    "    max_q=float('-inf')\n",
    "    for j in q_table[i].keys():\n",
    "        if q_table[i][j]>max_q:\n",
    "            max_q=q_table[i][j]\n",
    "            policy.update({\n",
    "                i:j\n",
    "            })"
   ]
  },
  {
   "cell_type": "code",
   "execution_count": 26,
   "metadata": {},
   "outputs": [
    {
     "name": "stdout",
     "output_type": "stream",
     "text": [
      "Policy (Q LEARNING Results, Softmax Exploration):\n",
      "-------------------------------------------------------------\n",
      "  R  |  R  |  R  |  R  |  R  |  R  |  R  |  R  |  R  |  D  |\n",
      "-------------------------------------------------------------\n",
      "  R  |  R  |  R  |  R  |  R  |  R  |  R  |  R  |  R  |     |\n",
      "-------------------------------------------------------------\n",
      "  R  |  R  |  R  |  D  |  D  |  D  |  R  |  U  |  U  |     |\n",
      "-------------------------------------------------------------\n",
      "  R  |  R  |  R  |  R  |  D  |  D  |  L  |  U  |  U  |  D  |\n",
      "-------------------------------------------------------------\n",
      "  D  |  D  |  R  |  D  |  D  |  D  |  L  |  L  |  U  |  L  |\n",
      "-------------------------------------------------------------\n",
      "  R  |  R  |  R  |  R  |  R  |  L  |  L  |  L  |  L  |  L  |\n",
      "-------------------------------------------------------------\n",
      "  R  |  R  |  R  |  R  |  U  |     |  U  |  U  |  L  |  L  |\n",
      "-------------------------------------------------------------\n",
      "  R  |  U  |     |  U  |  U  |  L  |  U  |  U  |  U  |  L  |\n",
      "-------------------------------------------------------------\n",
      "  R  |  U  |  R  |  U  |  U  |  U  |  U  |  U  |  U  |  L  |\n",
      "-------------------------------------------------------------\n",
      "  R  |  R  |  U  |  U  |  U  |  U  |  U  |  U  |  U  |  U  |\n"
     ]
    }
   ],
   "source": [
    "    print('Policy (Q LEARNING Results, Softmax Exploration):')\n",
    "    print_policy(policy,grid)"
   ]
  },
  {
   "cell_type": "code",
   "execution_count": 15,
   "metadata": {},
   "outputs": [],
   "source": [
    "num_episodes=100\n",
    "max_steps=1000\n",
    "rewards=[]\n",
    "final_states=[]\n",
    "for episode in range(num_episodes):\n",
    "    grid.set_state(grid.start)\n",
    "    state=(grid.i,grid.j)\n",
    "    done=False\n",
    "    rewards_current_episode=0\n",
    "    for step in range(max_steps):\n",
    "        action=policy[state]\n",
    "        new_state,reward,done=grid.step(action)    \n",
    "        state=new_state\n",
    "        grid.set_state(state)\n",
    "        rewards_current_episode+=reward\n",
    "        if done ==True:\n",
    "            break\n",
    "    rewards.append(rewards_current_episode)\n",
    "    final_states.append(state)"
   ]
  },
  {
   "cell_type": "code",
   "execution_count": 16,
   "metadata": {},
   "outputs": [
    {
     "data": {
      "text/plain": [
       "62.99060000000002"
      ]
     },
     "execution_count": 16,
     "metadata": {},
     "output_type": "execute_result"
    }
   ],
   "source": [
    "sum(rewards)/100"
   ]
  },
  {
   "cell_type": "code",
   "execution_count": 21,
   "metadata": {
    "scrolled": true
   },
   "outputs": [
    {
     "data": {
      "text/plain": [
       "Counter({(5, 4): 41,\n",
       "         (4, 4): 6,\n",
       "         (5, 5): 36,\n",
       "         (4, 5): 5,\n",
       "         (6, 4): 7,\n",
       "         (1, 9): 4,\n",
       "         (6, 3): 1})"
      ]
     },
     "execution_count": 21,
     "metadata": {},
     "output_type": "execute_result"
    }
   ],
   "source": [
    "Counter(final_states)"
   ]
  },
  {
   "cell_type": "code",
   "execution_count": 22,
   "metadata": {},
   "outputs": [
    {
     "data": {
      "image/png": "[encoded data removed]",
      "text/plain": [
       "<Figure size 432x288 with 1 Axes>"
      ]
     },
     "metadata": {},
     "output_type": "display_data"
    }
   ],
   "source": [
    "episodes=[1,2,3,4,5,6,7,8,9,10]\n",
    "plt.plot(episodes,rewards_thousand_episodes,'go')\n",
    "plt.ylabel('Average Rewards')\n",
    "plt.xlabel('Per 1k episodes')\n",
    "plt.title('Q Learning Large Grid (Softmax Exploration) ')\n",
    "plt.savefig('E:/Machine Learning/HW4/QL_SE.png')"
   ]
  },
  {
   "cell_type": "code",
   "execution_count": 25,
   "metadata": {},
   "outputs": [
    {
     "data": {
      "text/plain": [
       "303.507"
      ]
     },
     "execution_count": 25,
     "metadata": {},
     "output_type": "execute_result"
    }
   ],
   "source": [
    "sum(Steps[-1000:])/1000"
   ]
  }
 ],
 "metadata": {
  "kernelspec": {
   "display_name": "Python 3",
   "language": "python",
   "name": "python3"
  },
  "language_info": {
   "codemirror_mode": {
    "name": "ipython",
    "version": 3
   },
   "file_extension": ".py",
   "mimetype": "text/x-python",
   "name": "python",
   "nbconvert_exporter": "python",
   "pygments_lexer": "ipython3",
   "version": "3.6.5"
  }
 },
 "nbformat": 4,
 "nbformat_minor": 2
}
